{
 "cells": [
  {
   "cell_type": "code",
   "execution_count": 90,
   "metadata": {},
   "outputs": [],
   "source": [
    "import os\n",
    "import cv2\n",
    "import pandas as pd\n",
    "import matplotlib.pyplot as plt\n",
    "import sys\n",
    "import numpy as np\n",
    "from skimage.io import imread\n",
    "import cv2\n",
    "import tensorflow as tf\n",
    "\n",
    "%matplotlib inline\n",
    "plt.style.use('default')"
   ]
  },
  {
   "cell_type": "code",
   "execution_count": 91,
   "metadata": {},
   "outputs": [],
   "source": [
    "def bgr2rgb(img_BGR):\n",
    "    b,g,r = cv2.split(img_BGR)\n",
    "    img_RGB = cv2.merge((r,g,b))\n",
    "    return img_RGB"
   ]
  },
  {
   "cell_type": "markdown",
   "metadata": {},
   "source": [
    "Prueba de procesamiento de imágenes"
   ]
  },
  {
   "cell_type": "code",
   "execution_count": 3,
   "metadata": {},
   "outputs": [],
   "source": [
    "#imageA = cv2.imread('Data/clips-data/train/clips-30003.png')"
   ]
  },
  {
   "cell_type": "code",
   "execution_count": 3,
   "metadata": {},
   "outputs": [],
   "source": [
    "#Remover la imagen\n",
    "def remover_lineas(imagen):\n",
    "    azul_i = np.array([118, 0, 0], np.uint8)  #Límites para el umbral de colores\n",
    "    azul_f = np.array([180, 255, 255], np.uint8)\n",
    "\n",
    "    img_trans = cv2.cvtColor(imagen, cv2.COLOR_BGR2LAB)\n",
    "    img_HSV = cv2.cvtColor(img_trans, cv2.COLOR_BGR2HSV) #Transformamos al formato HSV\n",
    "    mask = cv2.inRange(img_HSV,azul_i,azul_f) #Aplicamos el umbral para crear la máscara\n",
    "    img_masked = cv2.bitwise_and(imagen,imagen,mask=mask) #Filtramos con la máscara\n",
    "    img_masked[mask==0]=[255,255,255]  #Los píxeles negros (valor = 0) los pintamos como blancos (valor = 255)\n",
    "    \n",
    "    mask_inv = cv2.bitwise_not(mask) #Invertimos la máscara (imagen 3)\n",
    "    new_img = cv2.inpaint(img_masked,mask_inv,1,cv2.INPAINT_TELEA)  #Pintamos los píxeles de la máscara con los píxeles de alrededor\n",
    "    return new_img\n",
    "\n",
    "#Invertir el color de la imagen\n",
    "def invertir_img(imagen):\n",
    "    img_grayScale = cv2.cvtColor(imagen, cv2.COLOR_BGR2GRAY)  #Convertimos la imagen rgb a escala de grises\n",
    "    inverted_image = cv2.bitwise_not(img_grayScale) #Invertimos los colores de la escala de grises, los blancos pasan a ser negros\n",
    "    return inverted_image"
   ]
  },
  {
   "cell_type": "markdown",
   "metadata": {},
   "source": [
    "Leemos los csv con los valores del target (y)"
   ]
  },
  {
   "cell_type": "code",
   "execution_count": 4,
   "metadata": {},
   "outputs": [],
   "source": [
    "df_train = pd.read_csv('train.csv')\n",
    "df_test = pd.read_csv('test.csv')"
   ]
  },
  {
   "cell_type": "code",
   "execution_count": 5,
   "metadata": {},
   "outputs": [],
   "source": [
    "df_train\n",
    "y_train = df_train['clip_count']"
   ]
  },
  {
   "cell_type": "code",
   "execution_count": 6,
   "metadata": {},
   "outputs": [],
   "source": [
    "df_test\n",
    "y_test = df_test['clip_count']"
   ]
  },
  {
   "cell_type": "code",
   "execution_count": 8,
   "metadata": {},
   "outputs": [
    {
     "data": {
      "text/plain": [
       "numpy.int64"
      ]
     },
     "execution_count": 8,
     "metadata": {},
     "output_type": "execute_result"
    }
   ],
   "source": [
    "type(df_test.iloc[0,0])"
   ]
  },
  {
   "cell_type": "markdown",
   "metadata": {},
   "source": [
    "Cargamos las imágenes"
   ]
  },
  {
   "cell_type": "code",
   "execution_count": 7,
   "metadata": {},
   "outputs": [],
   "source": [
    "path_train = 'Data/clips-data/train'\n",
    "path_test = 'Data/clips-data/test'\n",
    "path_sol = 'Data/clips-data/solution'"
   ]
  },
  {
   "cell_type": "code",
   "execution_count": 8,
   "metadata": {},
   "outputs": [],
   "source": [
    "def read_data(path):\n",
    "    X = []\n",
    "    names = []\n",
    "    for img in os.listdir(path):\n",
    "        # image = imread(path + '/' + img)\n",
    "        image = cv2.imread(path+\"/\"+img)\n",
    "        img_masked = invertir_img(remover_lineas(image))\n",
    "        smallimage = cv2.resize(img_masked, (96,96))\n",
    "        X.append(smallimage)  # X: images\n",
    "        name = img.split('-')[1]\n",
    "        names.append(int(name.split('.')[0])) #names of img\n",
    "    return np.array(X),np.array(names)"
   ]
  },
  {
   "cell_type": "code",
   "execution_count": 9,
   "metadata": {},
   "outputs": [],
   "source": [
    "X_train,names_train = read_data(path_train)\n",
    "X_test,names_test = read_data(path_test)\n",
    "X_sol,names_sol = read_data(path_sol)"
   ]
  },
  {
   "cell_type": "code",
   "execution_count": 12,
   "metadata": {},
   "outputs": [
    {
     "name": "stdout",
     "output_type": "stream",
     "text": [
      "(15000, 96, 96)\n",
      "(3000, 96, 96)\n",
      "(2000, 96, 96)\n"
     ]
    }
   ],
   "source": [
    "print(X_train.shape)\n",
    "print(X_test.shape)\n",
    "print(X_sol.shape)"
   ]
  },
  {
   "cell_type": "code",
   "execution_count": 13,
   "metadata": {},
   "outputs": [
    {
     "data": {
      "text/plain": [
       "array([[ 0,  0,  0, ...,  0,  0,  4],\n",
       "       [ 0,  0,  0, ..., 10, 77, 54],\n",
       "       [ 0,  0,  0, ..., 68, 35, 60],\n",
       "       ...,\n",
       "       [ 0,  0,  0, ..., 87, 83,  0],\n",
       "       [ 1,  1,  1, ...,  3, 18, 95],\n",
       "       [ 1,  1,  1, ...,  1,  1,  2]], dtype=uint8)"
      ]
     },
     "execution_count": 13,
     "metadata": {},
     "output_type": "execute_result"
    }
   ],
   "source": [
    "X_train[0,:,:]"
   ]
  },
  {
   "cell_type": "code",
   "execution_count": 14,
   "metadata": {},
   "outputs": [
    {
     "data": {
      "image/png": "[encoded data removed]",
      "text/plain": [
       "<Figure size 640x480 with 1 Axes>"
      ]
     },
     "metadata": {},
     "output_type": "display_data"
    }
   ],
   "source": [
    "prueba = X_train[5]\n",
    "plt.imshow(prueba,cmap='gray');"
   ]
  },
  {
   "cell_type": "code",
   "execution_count": 15,
   "metadata": {},
   "outputs": [
    {
     "name": "stdout",
     "output_type": "stream",
     "text": [
      "131\n",
      "0\n"
     ]
    }
   ],
   "source": [
    "print(np.max(X_train))\n",
    "print(np.min(X_train))"
   ]
  },
  {
   "cell_type": "code",
   "execution_count": 21,
   "metadata": {},
   "outputs": [],
   "source": [
    "#Normalizamos los datos:\n",
    "X_train_Norm = X_train.astype(\"float32\")/255\n",
    "X_test_Norm = X_test.astype(\"float32\")/255\n",
    "X_sol_Norm = X_sol.astype(\"float32\")/255"
   ]
  },
  {
   "cell_type": "code",
   "execution_count": 22,
   "metadata": {},
   "outputs": [],
   "source": [
    "y_train_float = y_train.astype(\"float32\")\n",
    "y_test_float = y_test.astype(\"float32\")"
   ]
  },
  {
   "cell_type": "markdown",
   "metadata": {},
   "source": [
    "Modelo"
   ]
  },
  {
   "cell_type": "code",
   "execution_count": 17,
   "metadata": {},
   "outputs": [],
   "source": [
    "from tensorflow import keras\n"
   ]
  },
  {
   "cell_type": "code",
   "execution_count": 19,
   "metadata": {},
   "outputs": [],
   "source": [
    "from keras.callbacks import EarlyStopping\n",
    "earlystop = EarlyStopping(patience=5)"
   ]
  },
  {
   "cell_type": "code",
   "execution_count": 20,
   "metadata": {},
   "outputs": [],
   "source": [
    "from keras.callbacks import ModelCheckpoint\n",
    "mcheckpoint = ModelCheckpoint(\"callback_model1.h5\")"
   ]
  },
  {
   "cell_type": "code",
   "execution_count": 21,
   "metadata": {},
   "outputs": [
    {
     "data": {
      "text/plain": [
       "(96, 96)"
      ]
     },
     "execution_count": 21,
     "metadata": {},
     "output_type": "execute_result"
    }
   ],
   "source": [
    "X_train_Norm[0].shape"
   ]
  },
  {
   "cell_type": "code",
   "execution_count": 22,
   "metadata": {},
   "outputs": [
    {
     "data": {
      "text/plain": [
       "(15000, 96, 96)"
      ]
     },
     "execution_count": 22,
     "metadata": {},
     "output_type": "execute_result"
    }
   ],
   "source": [
    "X_train_Norm.shape"
   ]
  },
  {
   "cell_type": "code",
   "execution_count": 23,
   "metadata": {},
   "outputs": [
    {
     "name": "stdout",
     "output_type": "stream",
     "text": [
      "(15000, 96, 96, 1)\n"
     ]
    }
   ],
   "source": [
    "#Modificamos la dimension para que las imágenes sean 96x96x1\n",
    "X_train_dim = np.expand_dims(X_train_Norm,3)\n",
    "X_test_dim = np.expand_dims(X_test_Norm,3)\n",
    "X_sol_dim = np.expand_dims(X_sol_Norm,3)\n",
    "print(X_train_dim.shape)"
   ]
  },
  {
   "cell_type": "code",
   "execution_count": 24,
   "metadata": {},
   "outputs": [
    {
     "data": {
      "text/plain": [
       "(96, 96, 1)"
      ]
     },
     "execution_count": 24,
     "metadata": {},
     "output_type": "execute_result"
    }
   ],
   "source": [
    "X_train_dim[0].shape"
   ]
  },
  {
   "cell_type": "markdown",
   "metadata": {},
   "source": [
    "Creación del modelo"
   ]
  },
  {
   "cell_type": "code",
   "execution_count": 25,
   "metadata": {},
   "outputs": [],
   "source": [
    "#    keras.optimizers.Adadelta(),\n",
    "#    keras.optimizers.Adagrad(),\n",
    "#    keras.optimizers.Adam(),\n",
    "#    keras.optimizers.Adamax(),\n",
    "#    #keras.optimizers.Ftrl(),\n",
    "#    keras.optimizers.Nadam(),\n",
    "#    keras.optimizers.RMSprop(),"
   ]
  },
  {
   "cell_type": "code",
   "execution_count": 77,
   "metadata": {},
   "outputs": [],
   "source": [
    "optimizers_list = [\n",
    "\n",
    "    keras.optimizers.Adam(),\n",
    "    keras.optimizers.Adamax(),\n",
    "    \n",
    "]"
   ]
  },
  {
   "cell_type": "code",
   "execution_count": 25,
   "metadata": {},
   "outputs": [],
   "source": [
    "capas = [\n",
    "    keras.layers.Conv2D(32, (3,3), activation='relu', input_shape =X_train_dim[0].shape),\n",
    "    keras.layers.MaxPooling2D(pool_size=(2,2)),\n",
    "    keras.layers.Conv2D(64, (3,3), activation='relu'),\n",
    "    keras.layers.MaxPooling2D(pool_size=(2,2)),\n",
    "    keras.layers.Conv2D(128, (3,3), activation='relu'),\n",
    "    keras.layers.MaxPooling2D(pool_size=(2,2)),\n",
    "    keras.layers.Flatten(),\n",
    "    keras.layers.Dense(units = 300, activation='relu'),\n",
    "    keras.layers.Dense(units = 100, activation='relu'),\n",
    "    #keras.layers.Dense(units = 32, activation='relu'),\n",
    "    keras.layers.Dense(units = 1, activation='relu')\n",
    "]\n",
    "\n"
   ]
  },
  {
   "cell_type": "code",
   "execution_count": 86,
   "metadata": {},
   "outputs": [],
   "source": [
    "#FUNCION CREADA PARA LA LIBRERIA\n",
    "\n",
    "def check_optimizadores (modelo, optimizadores, epochs, loss, metrics, x_data, y_data, bath, callbks):\n",
    "    print ('entro')\n",
    "    \n",
    "    results = {}\n",
    "    history = {}\n",
    "\n",
    "    for optimizadores in optimizadores:\n",
    "    \n",
    "  \n",
    "    \n",
    "        modelo.compile (loss = loss, optimizer= optimizadores, metrics = metrics)\n",
    "        optimizer_key = str(type(optimizadores).__name__)\n",
    "        history[optimizer_key] = modelo.fit(x_data, y_data, batch_size = bath, epochs = epochs, validation_split = 0.2,callbacks= callbks)\n",
    "        results[optimizer_key] = {}\n",
    "        results[optimizer_key]['loss'] = history[optimizer_key].history['loss'][epochs -1]\n",
    "        results[optimizer_key]['val_loss'] = history[optimizer_key].history['val_loss'][epochs -1]\n",
    "        \n",
    "        df_results = pd.DataFrame(results)\n",
    "    graf_df_result = df_results.plot.bar()\n",
    "    \n",
    "    graf_epoc = plt.figure(figsize= (7,7))\n",
    "    plt.xlabel ('Epoch')\n",
    "    plt.ylabel('Loss')\n",
    "    \n",
    "    for optimizadores in history:\n",
    "        hist = pd.DataFrame(history[optimizadores].history)\n",
    "        \n",
    "        plt.plot(history[optimizadores].epoch, np.array(hist['loss']),\n",
    "                label = 'Train loss' + optimizadores)\n",
    "        plt.plot(history[optimizadores].epoch, np.array(hist['val_loss']),\n",
    "                label = 'Val loss' + optimizadores)\n",
    "    plt.legend()\n",
    "    \n",
    "    return graf_df_result, graf_epoc"
   ]
  },
  {
   "cell_type": "code",
   "execution_count": 87,
   "metadata": {},
   "outputs": [],
   "source": [
    "# PRUEBA DE LA FUNCION CREADA\n",
    "from keras.callbacks import EarlyStopping\n",
    "earlystop = EarlyStopping(patience=5)"
   ]
  },
  {
   "cell_type": "code",
   "execution_count": 88,
   "metadata": {},
   "outputs": [],
   "source": [
    "model = model = keras.Sequential(capas)"
   ]
  },
  {
   "cell_type": "code",
   "execution_count": 92,
   "metadata": {},
   "outputs": [
    {
     "data": {
      "text/plain": [
       "keras.engine.sequential.Sequential"
      ]
     },
     "execution_count": 92,
     "metadata": {},
     "output_type": "execute_result"
    }
   ],
   "source": [
    "type (model)"
   ]
  },
  {
   "cell_type": "code",
   "execution_count": 89,
   "metadata": {},
   "outputs": [
    {
     "name": "stdout",
     "output_type": "stream",
     "text": [
      "entro\n",
      "Epoch 1/5\n",
      "94/94 [==============================] - 83s 883ms/step - loss: 3.5275 - root_mean_squared_error: 1.8782 - val_loss: 4.3009 - val_root_mean_squared_error: 2.0739\n",
      "Epoch 2/5\n",
      "94/94 [==============================] - 85s 904ms/step - loss: 3.0121 - root_mean_squared_error: 1.7355 - val_loss: 4.3030 - val_root_mean_squared_error: 2.0744\n",
      "Epoch 3/5\n",
      "94/94 [==============================] - 85s 902ms/step - loss: 3.4278 - root_mean_squared_error: 1.8514 - val_loss: 4.1851 - val_root_mean_squared_error: 2.0458\n",
      "Epoch 4/5\n",
      "94/94 [==============================] - 81s 865ms/step - loss: 2.7091 - root_mean_squared_error: 1.6459 - val_loss: 4.5414 - val_root_mean_squared_error: 2.1311\n",
      "Epoch 5/5\n",
      "94/94 [==============================] - 82s 869ms/step - loss: 2.7410 - root_mean_squared_error: 1.6556 - val_loss: 4.1468 - val_root_mean_squared_error: 2.0364\n",
      "Epoch 1/5\n",
      "94/94 [==============================] - 82s 871ms/step - loss: 2.2353 - root_mean_squared_error: 1.6179 - val_loss: 4.4106 - val_root_mean_squared_error: 2.1001\n",
      "Epoch 2/5\n",
      "94/94 [==============================] - 82s 871ms/step - loss: 2.2485 - root_mean_squared_error: 1.4995 - val_loss: 4.2793 - val_root_mean_squared_error: 2.0686\n",
      "Epoch 3/5\n",
      "94/94 [==============================] - 82s 873ms/step - loss: 2.1684 - root_mean_squared_error: 1.4725 - val_loss: 4.1625 - val_root_mean_squared_error: 2.0402\n",
      "Epoch 4/5\n",
      "94/94 [==============================] - 79s 843ms/step - loss: 2.1770 - root_mean_squared_error: 1.4755 - val_loss: 4.1323 - val_root_mean_squared_error: 2.0328\n",
      "Epoch 5/5\n",
      "94/94 [==============================] - 92s 975ms/step - loss: 2.1327 - root_mean_squared_error: 1.4604 - val_loss: 4.1801 - val_root_mean_squared_error: 2.0445\n"
     ]
    },
    {
     "data": {
      "text/plain": [
       "(<AxesSubplot:>, <Figure size 700x700 with 1 Axes>)"
      ]
     },
     "execution_count": 89,
     "metadata": {},
     "output_type": "execute_result"
    },
    {
     "data": {
      "image/png": "[encoded data removed]",
      "text/plain": [
       "<Figure size 640x480 with 1 Axes>"
      ]
     },
     "metadata": {},
     "output_type": "display_data"
    },
    {
     "data": {
      "image/png": "[encoded data removed]",
      "text/plain": [
       "<Figure size 700x700 with 1 Axes>"
      ]
     },
     "metadata": {},
     "output_type": "display_data"
    }
   ],
   "source": [
    "#PRUEBA DE LA FUNCION CREADA\n",
    "check_optimizadores (model, optimizers_list, 5, \"mean_squared_error\",  keras.metrics.RootMeanSquaredError(), X_train_dim, y_train_float, int(128), earlystop)"
   ]
  },
  {
   "cell_type": "code",
   "execution_count": null,
   "metadata": {},
   "outputs": [],
   "source": []
  },
  {
   "cell_type": "code",
   "execution_count": null,
   "metadata": {},
   "outputs": [],
   "source": []
  },
  {
   "cell_type": "code",
   "execution_count": null,
   "metadata": {},
   "outputs": [],
   "source": []
  },
  {
   "cell_type": "markdown",
   "metadata": {},
   "source": [
    "**Adam**"
   ]
  },
  {
   "cell_type": "code",
   "execution_count": 27,
   "metadata": {},
   "outputs": [],
   "source": [
    "model.compile(\n",
    "    optimizer = tf.keras.optimizers.Adamax(), #(learning_rate=.2),   #en lugar de \"sgd\",\n",
    "    loss = \"mean_squared_error\",\n",
    "    metrics = [keras.metrics.RootMeanSquaredError()]\n",
    "    )"
   ]
  },
  {
   "cell_type": "code",
   "execution_count": 28,
   "metadata": {},
   "outputs": [
    {
     "name": "stdout",
     "output_type": "stream",
     "text": [
      "Model: \"sequential\"\n",
      "_________________________________________________________________\n",
      " Layer (type)                Output Shape              Param #   \n",
      "=================================================================\n",
      " conv2d (Conv2D)             (None, 94, 94, 32)        320       \n",
      "                                                                 \n",
      " max_pooling2d (MaxPooling2D  (None, 47, 47, 32)       0         \n",
      " )                                                               \n",
      "                                                                 \n",
      " conv2d_1 (Conv2D)           (None, 45, 45, 64)        18496     \n",
      "                                                                 \n",
      " max_pooling2d_1 (MaxPooling  (None, 22, 22, 64)       0         \n",
      " 2D)                                                             \n",
      "                                                                 \n",
      " conv2d_2 (Conv2D)           (None, 20, 20, 128)       73856     \n",
      "                                                                 \n",
      " max_pooling2d_2 (MaxPooling  (None, 10, 10, 128)      0         \n",
      " 2D)                                                             \n",
      "                                                                 \n",
      " flatten (Flatten)           (None, 12800)             0         \n",
      "                                                                 \n",
      " dense (Dense)               (None, 300)               3840300   \n",
      "                                                                 \n",
      " dense_1 (Dense)             (None, 100)               30100     \n",
      "                                                                 \n",
      " dense_2 (Dense)             (None, 1)                 101       \n",
      "                                                                 \n",
      "=================================================================\n",
      "Total params: 3,963,173\n",
      "Trainable params: 3,963,173\n",
      "Non-trainable params: 0\n",
      "_________________________________________________________________\n"
     ]
    }
   ],
   "source": [
    "model.summary()"
   ]
  },
  {
   "cell_type": "markdown",
   "metadata": {},
   "source": [
    "Entrenamiento"
   ]
  },
  {
   "cell_type": "code",
   "execution_count": 29,
   "metadata": {},
   "outputs": [
    {
     "name": "stdout",
     "output_type": "stream",
     "text": [
      "Epoch 1/12\n",
      "118/118 [==============================] - ETA: 0s - loss: 151.5308 - root_mean_squared_error: 12.3098WARNING:tensorflow:Early stopping conditioned on metric `val_loss` which is not available. Available metrics are: loss,root_mean_squared_error\n",
      "118/118 [==============================] - 116s 968ms/step - loss: 151.5308 - root_mean_squared_error: 12.3098\n",
      "Epoch 2/12\n",
      "118/118 [==============================] - ETA: 0s - loss: 31.2187 - root_mean_squared_error: 5.5874WARNING:tensorflow:Early stopping conditioned on metric `val_loss` which is not available. Available metrics are: loss,root_mean_squared_error\n",
      "118/118 [==============================] - 116s 979ms/step - loss: 31.2187 - root_mean_squared_error: 5.5874\n",
      "Epoch 3/12\n",
      "118/118 [==============================] - ETA: 0s - loss: 13.6283 - root_mean_squared_error: 3.6917WARNING:tensorflow:Early stopping conditioned on metric `val_loss` which is not available. Available metrics are: loss,root_mean_squared_error\n",
      "118/118 [==============================] - 117s 987ms/step - loss: 13.6283 - root_mean_squared_error: 3.6917\n",
      "Epoch 4/12\n",
      "118/118 [==============================] - ETA: 0s - loss: 12.0553 - root_mean_squared_error: 3.4721WARNING:tensorflow:Early stopping conditioned on metric `val_loss` which is not available. Available metrics are: loss,root_mean_squared_error\n",
      "118/118 [==============================] - 118s 1s/step - loss: 12.0553 - root_mean_squared_error: 3.4721\n",
      "Epoch 5/12\n",
      "118/118 [==============================] - ETA: 0s - loss: 11.3584 - root_mean_squared_error: 3.3702WARNING:tensorflow:Early stopping conditioned on metric `val_loss` which is not available. Available metrics are: loss,root_mean_squared_error\n",
      "118/118 [==============================] - 112s 951ms/step - loss: 11.3584 - root_mean_squared_error: 3.3702\n",
      "Epoch 6/12\n",
      "118/118 [==============================] - ETA: 0s - loss: 10.6069 - root_mean_squared_error: 3.2568WARNING:tensorflow:Early stopping conditioned on metric `val_loss` which is not available. Available metrics are: loss,root_mean_squared_error\n",
      "118/118 [==============================] - 112s 949ms/step - loss: 10.6069 - root_mean_squared_error: 3.2568\n",
      "Epoch 7/12\n",
      "118/118 [==============================] - ETA: 0s - loss: 9.9497 - root_mean_squared_error: 3.1543WARNING:tensorflow:Early stopping conditioned on metric `val_loss` which is not available. Available metrics are: loss,root_mean_squared_error\n",
      "118/118 [==============================] - 112s 948ms/step - loss: 9.9497 - root_mean_squared_error: 3.1543\n",
      "Epoch 8/12\n",
      "118/118 [==============================] - ETA: 0s - loss: 9.7998 - root_mean_squared_error: 3.1305WARNING:tensorflow:Early stopping conditioned on metric `val_loss` which is not available. Available metrics are: loss,root_mean_squared_error\n",
      "118/118 [==============================] - 115s 977ms/step - loss: 9.7998 - root_mean_squared_error: 3.1305\n",
      "Epoch 9/12\n",
      "118/118 [==============================] - ETA: 0s - loss: 8.9869 - root_mean_squared_error: 2.9978WARNING:tensorflow:Early stopping conditioned on metric `val_loss` which is not available. Available metrics are: loss,root_mean_squared_error\n",
      "118/118 [==============================] - 104s 878ms/step - loss: 8.9869 - root_mean_squared_error: 2.9978\n",
      "Epoch 10/12\n",
      "118/118 [==============================] - ETA: 0s - loss: 9.3973 - root_mean_squared_error: 3.0655WARNING:tensorflow:Early stopping conditioned on metric `val_loss` which is not available. Available metrics are: loss,root_mean_squared_error\n",
      "118/118 [==============================] - 117s 995ms/step - loss: 9.3973 - root_mean_squared_error: 3.0655\n",
      "Epoch 11/12\n",
      "118/118 [==============================] - ETA: 0s - loss: 8.1988 - root_mean_squared_error: 2.8633WARNING:tensorflow:Early stopping conditioned on metric `val_loss` which is not available. Available metrics are: loss,root_mean_squared_error\n",
      "118/118 [==============================] - 125s 1s/step - loss: 8.1988 - root_mean_squared_error: 2.8633\n",
      "Epoch 12/12\n",
      "118/118 [==============================] - ETA: 0s - loss: 8.0236 - root_mean_squared_error: 2.8326WARNING:tensorflow:Early stopping conditioned on metric `val_loss` which is not available. Available metrics are: loss,root_mean_squared_error\n",
      "118/118 [==============================] - 130s 1s/step - loss: 8.0236 - root_mean_squared_error: 2.8326\n"
     ]
    }
   ],
   "source": [
    "history = model.fit(X_train_dim,\n",
    "                   y_train_float,\n",
    "                   batch_size = 128,\n",
    "                   epochs = 12,\n",
    "                   callbacks = [earlystop, mcheckpoint],\n",
    "                   )"
   ]
  },
  {
   "cell_type": "code",
   "execution_count": 30,
   "metadata": {},
   "outputs": [
    {
     "name": "stdout",
     "output_type": "stream",
     "text": [
      "94/94 [==============================] - 8s 87ms/step - loss: 11.4305 - root_mean_squared_error: 3.3809\n",
      "[11.430458068847656, 3.3808960914611816]\n"
     ]
    }
   ],
   "source": [
    "rmse_test = model.evaluate(X_test_dim, y_test_float)\n",
    "print(rmse_test)"
   ]
  },
  {
   "cell_type": "code",
   "execution_count": 31,
   "metadata": {},
   "outputs": [
    {
     "name": "stdout",
     "output_type": "stream",
     "text": [
      "[[69.]\n",
      " [47.]\n",
      " [45.]\n",
      " ...\n",
      " [50.]\n",
      " [58.]\n",
      " [44.]]\n"
     ]
    }
   ],
   "source": [
    "pred_test = model.predict(X_test_dim)\n",
    "print(pred_test.round(0))"
   ]
  },
  {
   "cell_type": "code",
   "execution_count": 32,
   "metadata": {},
   "outputs": [
    {
     "data": {
      "text/plain": [
       "0       68.0\n",
       "1       40.0\n",
       "2       41.0\n",
       "3       39.0\n",
       "4       19.0\n",
       "        ... \n",
       "2995     9.0\n",
       "2996    45.0\n",
       "2997    52.0\n",
       "2998    63.0\n",
       "2999    43.0\n",
       "Name: clip_count, Length: 3000, dtype: float32"
      ]
     },
     "execution_count": 32,
     "metadata": {},
     "output_type": "execute_result"
    }
   ],
   "source": [
    "y_test_float"
   ]
  },
  {
   "cell_type": "code",
   "execution_count": 33,
   "metadata": {},
   "outputs": [
    {
     "name": "stdout",
     "output_type": "stream",
     "text": [
      "[[31.]\n",
      " [28.]\n",
      " [37.]\n",
      " ...\n",
      " [74.]\n",
      " [23.]\n",
      " [38.]]\n"
     ]
    }
   ],
   "source": [
    "#Con 5>10 epochs\n",
    "pred1 = model.predict(X_sol_dim)\n",
    "print(pred1.round(0))"
   ]
  },
  {
   "cell_type": "code",
   "execution_count": 34,
   "metadata": {},
   "outputs": [],
   "source": [
    "#pred_test2 = model.predict(X_test_dim)\n",
    "#print(pred_test2.round(0))"
   ]
  },
  {
   "cell_type": "code",
   "execution_count": 35,
   "metadata": {},
   "outputs": [
    {
     "data": {
      "text/html": [
       "<div>\n",
       "<style scoped>\n",
       "    .dataframe tbody tr th:only-of-type {\n",
       "        vertical-align: middle;\n",
       "    }\n",
       "\n",
       "    .dataframe tbody tr th {\n",
       "        vertical-align: top;\n",
       "    }\n",
       "\n",
       "    .dataframe thead th {\n",
       "        text-align: right;\n",
       "    }\n",
       "</style>\n",
       "<table border=\"1\" class=\"dataframe\">\n",
       "  <thead>\n",
       "    <tr style=\"text-align: right;\">\n",
       "      <th></th>\n",
       "      <th>clip_count</th>\n",
       "      <th>10 epochs</th>\n",
       "    </tr>\n",
       "  </thead>\n",
       "  <tbody>\n",
       "    <tr>\n",
       "      <th>0</th>\n",
       "      <td>68.0</td>\n",
       "      <td>69.0</td>\n",
       "    </tr>\n",
       "    <tr>\n",
       "      <th>1</th>\n",
       "      <td>40.0</td>\n",
       "      <td>47.0</td>\n",
       "    </tr>\n",
       "    <tr>\n",
       "      <th>2</th>\n",
       "      <td>41.0</td>\n",
       "      <td>45.0</td>\n",
       "    </tr>\n",
       "    <tr>\n",
       "      <th>3</th>\n",
       "      <td>39.0</td>\n",
       "      <td>39.0</td>\n",
       "    </tr>\n",
       "    <tr>\n",
       "      <th>4</th>\n",
       "      <td>19.0</td>\n",
       "      <td>17.0</td>\n",
       "    </tr>\n",
       "    <tr>\n",
       "      <th>...</th>\n",
       "      <td>...</td>\n",
       "      <td>...</td>\n",
       "    </tr>\n",
       "    <tr>\n",
       "      <th>2995</th>\n",
       "      <td>9.0</td>\n",
       "      <td>10.0</td>\n",
       "    </tr>\n",
       "    <tr>\n",
       "      <th>2996</th>\n",
       "      <td>45.0</td>\n",
       "      <td>53.0</td>\n",
       "    </tr>\n",
       "    <tr>\n",
       "      <th>2997</th>\n",
       "      <td>52.0</td>\n",
       "      <td>50.0</td>\n",
       "    </tr>\n",
       "    <tr>\n",
       "      <th>2998</th>\n",
       "      <td>63.0</td>\n",
       "      <td>58.0</td>\n",
       "    </tr>\n",
       "    <tr>\n",
       "      <th>2999</th>\n",
       "      <td>43.0</td>\n",
       "      <td>44.0</td>\n",
       "    </tr>\n",
       "  </tbody>\n",
       "</table>\n",
       "<p>3000 rows × 2 columns</p>\n",
       "</div>"
      ],
      "text/plain": [
       "      clip_count  10 epochs\n",
       "0           68.0       69.0\n",
       "1           40.0       47.0\n",
       "2           41.0       45.0\n",
       "3           39.0       39.0\n",
       "4           19.0       17.0\n",
       "...          ...        ...\n",
       "2995         9.0       10.0\n",
       "2996        45.0       53.0\n",
       "2997        52.0       50.0\n",
       "2998        63.0       58.0\n",
       "2999        43.0       44.0\n",
       "\n",
       "[3000 rows x 2 columns]"
      ]
     },
     "execution_count": 35,
     "metadata": {},
     "output_type": "execute_result"
    }
   ],
   "source": [
    "sol_test = pd.DataFrame(y_test_float)\n",
    "sol_test['10 epochs'] = pred_test.round(0)\n",
    "\n",
    "sol_test"
   ]
  },
  {
   "cell_type": "code",
   "execution_count": 36,
   "metadata": {},
   "outputs": [
    {
     "data": {
      "text/html": [
       "<div>\n",
       "<style scoped>\n",
       "    .dataframe tbody tr th:only-of-type {\n",
       "        vertical-align: middle;\n",
       "    }\n",
       "\n",
       "    .dataframe tbody tr th {\n",
       "        vertical-align: top;\n",
       "    }\n",
       "\n",
       "    .dataframe thead th {\n",
       "        text-align: right;\n",
       "    }\n",
       "</style>\n",
       "<table border=\"1\" class=\"dataframe\">\n",
       "  <thead>\n",
       "    <tr style=\"text-align: right;\">\n",
       "      <th></th>\n",
       "      <th>id</th>\n",
       "      <th>clip_count</th>\n",
       "    </tr>\n",
       "  </thead>\n",
       "  <tbody>\n",
       "    <tr>\n",
       "      <th>0</th>\n",
       "      <td>48001</td>\n",
       "      <td>31</td>\n",
       "    </tr>\n",
       "    <tr>\n",
       "      <th>1</th>\n",
       "      <td>48002</td>\n",
       "      <td>28</td>\n",
       "    </tr>\n",
       "    <tr>\n",
       "      <th>2</th>\n",
       "      <td>48003</td>\n",
       "      <td>37</td>\n",
       "    </tr>\n",
       "    <tr>\n",
       "      <th>3</th>\n",
       "      <td>48004</td>\n",
       "      <td>13</td>\n",
       "    </tr>\n",
       "    <tr>\n",
       "      <th>4</th>\n",
       "      <td>48005</td>\n",
       "      <td>42</td>\n",
       "    </tr>\n",
       "    <tr>\n",
       "      <th>...</th>\n",
       "      <td>...</td>\n",
       "      <td>...</td>\n",
       "    </tr>\n",
       "    <tr>\n",
       "      <th>1995</th>\n",
       "      <td>49996</td>\n",
       "      <td>36</td>\n",
       "    </tr>\n",
       "    <tr>\n",
       "      <th>1996</th>\n",
       "      <td>49997</td>\n",
       "      <td>54</td>\n",
       "    </tr>\n",
       "    <tr>\n",
       "      <th>1997</th>\n",
       "      <td>49998</td>\n",
       "      <td>74</td>\n",
       "    </tr>\n",
       "    <tr>\n",
       "      <th>1998</th>\n",
       "      <td>49999</td>\n",
       "      <td>23</td>\n",
       "    </tr>\n",
       "    <tr>\n",
       "      <th>1999</th>\n",
       "      <td>50000</td>\n",
       "      <td>38</td>\n",
       "    </tr>\n",
       "  </tbody>\n",
       "</table>\n",
       "<p>2000 rows × 2 columns</p>\n",
       "</div>"
      ],
      "text/plain": [
       "         id  clip_count\n",
       "0     48001          31\n",
       "1     48002          28\n",
       "2     48003          37\n",
       "3     48004          13\n",
       "4     48005          42\n",
       "...     ...         ...\n",
       "1995  49996          36\n",
       "1996  49997          54\n",
       "1997  49998          74\n",
       "1998  49999          23\n",
       "1999  50000          38\n",
       "\n",
       "[2000 rows x 2 columns]"
      ]
     },
     "execution_count": 36,
     "metadata": {},
     "output_type": "execute_result"
    }
   ],
   "source": [
    "#Solution 5>10 epochs\n",
    "solution7 = pd.DataFrame(names_sol,columns=['id'])\n",
    "solution7['clip_count'] = pred1.round(0).astype(int)\n",
    "solution7"
   ]
  },
  {
   "cell_type": "code",
   "execution_count": 37,
   "metadata": {},
   "outputs": [],
   "source": [
    "solution7.to_csv('solution7.csv',index=False)"
   ]
  },
  {
   "cell_type": "code",
   "execution_count": 38,
   "metadata": {},
   "outputs": [
    {
     "data": {
      "text/html": [
       "<div>\n",
       "<style scoped>\n",
       "    .dataframe tbody tr th:only-of-type {\n",
       "        vertical-align: middle;\n",
       "    }\n",
       "\n",
       "    .dataframe tbody tr th {\n",
       "        vertical-align: top;\n",
       "    }\n",
       "\n",
       "    .dataframe thead th {\n",
       "        text-align: right;\n",
       "    }\n",
       "</style>\n",
       "<table border=\"1\" class=\"dataframe\">\n",
       "  <thead>\n",
       "    <tr style=\"text-align: right;\">\n",
       "      <th></th>\n",
       "      <th>id</th>\n",
       "      <th>clip_count</th>\n",
       "    </tr>\n",
       "  </thead>\n",
       "  <tbody>\n",
       "    <tr>\n",
       "      <th>0</th>\n",
       "      <td>48001</td>\n",
       "      <td>31</td>\n",
       "    </tr>\n",
       "    <tr>\n",
       "      <th>1</th>\n",
       "      <td>48002</td>\n",
       "      <td>28</td>\n",
       "    </tr>\n",
       "    <tr>\n",
       "      <th>2</th>\n",
       "      <td>48003</td>\n",
       "      <td>37</td>\n",
       "    </tr>\n",
       "    <tr>\n",
       "      <th>3</th>\n",
       "      <td>48004</td>\n",
       "      <td>13</td>\n",
       "    </tr>\n",
       "    <tr>\n",
       "      <th>4</th>\n",
       "      <td>48005</td>\n",
       "      <td>42</td>\n",
       "    </tr>\n",
       "    <tr>\n",
       "      <th>...</th>\n",
       "      <td>...</td>\n",
       "      <td>...</td>\n",
       "    </tr>\n",
       "    <tr>\n",
       "      <th>1995</th>\n",
       "      <td>49996</td>\n",
       "      <td>36</td>\n",
       "    </tr>\n",
       "    <tr>\n",
       "      <th>1996</th>\n",
       "      <td>49997</td>\n",
       "      <td>54</td>\n",
       "    </tr>\n",
       "    <tr>\n",
       "      <th>1997</th>\n",
       "      <td>49998</td>\n",
       "      <td>74</td>\n",
       "    </tr>\n",
       "    <tr>\n",
       "      <th>1998</th>\n",
       "      <td>49999</td>\n",
       "      <td>23</td>\n",
       "    </tr>\n",
       "    <tr>\n",
       "      <th>1999</th>\n",
       "      <td>50000</td>\n",
       "      <td>38</td>\n",
       "    </tr>\n",
       "  </tbody>\n",
       "</table>\n",
       "<p>2000 rows × 2 columns</p>\n",
       "</div>"
      ],
      "text/plain": [
       "         id  clip_count\n",
       "0     48001          31\n",
       "1     48002          28\n",
       "2     48003          37\n",
       "3     48004          13\n",
       "4     48005          42\n",
       "...     ...         ...\n",
       "1995  49996          36\n",
       "1996  49997          54\n",
       "1997  49998          74\n",
       "1998  49999          23\n",
       "1999  50000          38\n",
       "\n",
       "[2000 rows x 2 columns]"
      ]
     },
     "execution_count": 38,
     "metadata": {},
     "output_type": "execute_result"
    }
   ],
   "source": [
    "prueba_df = pd.read_csv('solution7.csv')\n",
    "prueba_df"
   ]
  },
  {
   "cell_type": "code",
   "execution_count": null,
   "metadata": {},
   "outputs": [],
   "source": []
  }
 ],
 "metadata": {
  "interpreter": {
   "hash": "3f67cf292cfdf8821a6553471491412c8ec3f05871a103bf77e162c17ebe563c"
  },
  "kernelspec": {
   "display_name": "Python 3.7.4 64-bit",
   "language": "python",
   "name": "python3"
  },
  "language_info": {
   "codemirror_mode": {
    "name": "ipython",
    "version": 3
   },
   "file_extension": ".py",
   "mimetype": "text/x-python",
   "name": "python",
   "nbconvert_exporter": "python",
   "pygments_lexer": "ipython3",
   "version": "3.7.4"
  },
  "orig_nbformat": 4
 },
 "nbformat": 4,
 "nbformat_minor": 2
}
